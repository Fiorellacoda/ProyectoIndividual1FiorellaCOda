{
 "cells": [
  {
   "cell_type": "code",
   "execution_count": 55,
   "metadata": {},
   "outputs": [
    {
     "name": "stdout",
     "output_type": "stream",
     "text": [
      "   adult                              belongs_to_collection    budget  \\\n",
      "0  False  {'id': 10194, 'name': 'Toy Story Collection', ...  30000000   \n",
      "1  False                                                NaN  65000000   \n",
      "2  False  {'id': 119050, 'name': 'Grumpy Old Men Collect...         0   \n",
      "3  False                                                NaN  16000000   \n",
      "4  False  {'id': 96871, 'name': 'Father of the Bride Col...         0   \n",
      "\n",
      "                                              genres  \\\n",
      "0  [{'id': 16, 'name': 'Animation'}, {'id': 35, '...   \n",
      "1  [{'id': 12, 'name': 'Adventure'}, {'id': 14, '...   \n",
      "2  [{'id': 10749, 'name': 'Romance'}, {'id': 35, ...   \n",
      "3  [{'id': 35, 'name': 'Comedy'}, {'id': 18, 'nam...   \n",
      "4                     [{'id': 35, 'name': 'Comedy'}]   \n",
      "\n",
      "                               homepage     id    imdb_id original_language  \\\n",
      "0  http://toystory.disney.com/toy-story    862  tt0114709                en   \n",
      "1                                   NaN   8844  tt0113497                en   \n",
      "2                                   NaN  15602  tt0113228                en   \n",
      "3                                   NaN  31357  tt0114885                en   \n",
      "4                                   NaN  11862  tt0113041                en   \n",
      "\n",
      "                original_title  \\\n",
      "0                    Toy Story   \n",
      "1                      Jumanji   \n",
      "2             Grumpier Old Men   \n",
      "3            Waiting to Exhale   \n",
      "4  Father of the Bride Part II   \n",
      "\n",
      "                                            overview  ... release_date  \\\n",
      "0  Led by Woody, Andy's toys live happily in his ...  ...   1995-10-30   \n",
      "1  When siblings Judy and Peter discover an encha...  ...   1995-12-15   \n",
      "2  A family wedding reignites the ancient feud be...  ...   1995-12-22   \n",
      "3  Cheated on, mistreated and stepped on, the wom...  ...   1995-12-22   \n",
      "4  Just when George Banks has recovered from his ...  ...   1995-02-10   \n",
      "\n",
      "       revenue runtime                                   spoken_languages  \\\n",
      "0  373554033.0    81.0           [{'iso_639_1': 'en', 'name': 'English'}]   \n",
      "1  262797249.0   104.0  [{'iso_639_1': 'en', 'name': 'English'}, {'iso...   \n",
      "2          0.0   101.0           [{'iso_639_1': 'en', 'name': 'English'}]   \n",
      "3   81452156.0   127.0           [{'iso_639_1': 'en', 'name': 'English'}]   \n",
      "4   76578911.0   106.0           [{'iso_639_1': 'en', 'name': 'English'}]   \n",
      "\n",
      "     status                                            tagline  \\\n",
      "0  Released                                                NaN   \n",
      "1  Released          Roll the dice and unleash the excitement!   \n",
      "2  Released  Still Yelling. Still Fighting. Still Ready for...   \n",
      "3  Released  Friends are the people who let you be yourself...   \n",
      "4  Released  Just When His World Is Back To Normal... He's ...   \n",
      "\n",
      "                         title  video vote_average vote_count  \n",
      "0                    Toy Story  False          7.7     5415.0  \n",
      "1                      Jumanji  False          6.9     2413.0  \n",
      "2             Grumpier Old Men  False          6.5       92.0  \n",
      "3            Waiting to Exhale  False          6.1       34.0  \n",
      "4  Father of the Bride Part II  False          5.7      173.0  \n",
      "\n",
      "[5 rows x 24 columns]\n",
      "Número total de columnas: 24\n",
      "Columna: adult, Cantidad de datos: 45466\n",
      "Columna: belongs_to_collection, Cantidad de datos: 4494\n",
      "Columna: budget, Cantidad de datos: 45466\n",
      "Columna: genres, Cantidad de datos: 45466\n",
      "Columna: homepage, Cantidad de datos: 7782\n",
      "Columna: id, Cantidad de datos: 45466\n",
      "Columna: imdb_id, Cantidad de datos: 45449\n",
      "Columna: original_language, Cantidad de datos: 45455\n",
      "Columna: original_title, Cantidad de datos: 45466\n",
      "Columna: overview, Cantidad de datos: 44512\n",
      "Columna: popularity, Cantidad de datos: 45461\n",
      "Columna: poster_path, Cantidad de datos: 45080\n",
      "Columna: production_companies, Cantidad de datos: 45463\n",
      "Columna: production_countries, Cantidad de datos: 45463\n",
      "Columna: release_date, Cantidad de datos: 45379\n",
      "Columna: revenue, Cantidad de datos: 45460\n",
      "Columna: runtime, Cantidad de datos: 45203\n",
      "Columna: spoken_languages, Cantidad de datos: 45460\n",
      "Columna: status, Cantidad de datos: 45379\n",
      "Columna: tagline, Cantidad de datos: 20412\n",
      "Columna: title, Cantidad de datos: 45460\n",
      "Columna: video, Cantidad de datos: 45460\n",
      "Columna: vote_average, Cantidad de datos: 45460\n",
      "Columna: vote_count, Cantidad de datos: 45460\n"
     ]
    },
    {
     "name": "stderr",
     "output_type": "stream",
     "text": [
      "C:\\Users\\Lauta\\AppData\\Local\\Temp\\ipykernel_20120\\905897560.py:8: DtypeWarning: Columns (10) have mixed types. Specify dtype option on import or set low_memory=False.\n",
      "  df = pd.read_csv(archivo_csv)\n"
     ]
    }
   ],
   "source": [
    "#primeros pasos abrir, desanidar, unir datasets\n",
    "import pandas as pd\n",
    "\n",
    "# Ruta al archivo CSV\n",
    "archivo_csv = r'C:\\Users\\Lauta\\Downloads\\movies_dataset (2).csv'\n",
    "\n",
    "# Leo el archivo CSV\n",
    "df = pd.read_csv(archivo_csv)\n",
    "\n",
    "# Muestro las primeras filas del DataFrame\n",
    "print(df.head())\n",
    "\n",
    "\n",
    "# Obtengo los nombres de las columnas\n",
    "columnas = df.columns\n",
    "\n",
    "# Obtemgo la cantidad de datos en cada columna\n",
    "conteo_datos = df.count()\n",
    "\n",
    "# Imprimo el número total de columnas\n",
    "print(f\"Número total de columnas: {len(columnas)}\")\n",
    "\n",
    "# Imprimo los nombres de las columnas y la cantidad de datos\n",
    "for columna in columnas:\n",
    "    print(f\"Columna: {columna}, Cantidad de datos: {conteo_datos[columna]}\")\n"
   ]
  },
  {
   "cell_type": "code",
   "execution_count": 56,
   "metadata": {},
   "outputs": [
    {
     "name": "stderr",
     "output_type": "stream",
     "text": [
      "C:\\Users\\Lauta\\AppData\\Local\\Temp\\ipykernel_20120\\2019023975.py:5: DtypeWarning: Columns (10) have mixed types. Specify dtype option on import or set low_memory=False.\n",
      "  df = pd.read_csv(file_path)\n"
     ]
    },
    {
     "name": "stdout",
     "output_type": "stream",
     "text": [
      "Columnas eliminadas y archivo guardado como C:\\Users\\Lauta\\Downloads\\movies_dataset_modificado10000.csv exitosamente.\n"
     ]
    }
   ],
   "source": [
    "import pandas as pd\n",
    "\n",
    "# Leo el archivo\n",
    "file_path = r'C:\\Users\\Lauta\\Downloads\\movies_dataset (2).csv'\n",
    "df = pd.read_csv(file_path)\n",
    "\n",
    "#seleciono las columnas que voy a eliminar\n",
    "columnas_a_eliminar = ['adult', 'homepage', 'imdb_id', 'original_language', 'overview', 'poster_path', 'production_countries', 'tagline', 'video']\n",
    "\n",
    "# elimino las columnas selecionadas anteriormente\n",
    "df = df.drop(columns=columnas_a_eliminar)\n",
    "\n",
    "# Defino el nuevo nombre del archivo\n",
    "new_file_path = r'C:\\Users\\Lauta\\Downloads\\movies_dataset_modificado10000.csv'\n",
    "\n",
    "# Guardo el DataFrame modificado\n",
    "df.to_csv(new_file_path, index=False)\n",
    "\n",
    "print(f\"Columnas eliminadas y archivo guardado como {new_file_path} exitosamente.\")\n"
   ]
  },
  {
   "cell_type": "code",
   "execution_count": 57,
   "metadata": {},
   "outputs": [
    {
     "name": "stdout",
     "output_type": "stream",
     "text": [
      "Valores nulos rellenados y archivo guardado exitosamente en C:\\Users\\Lauta\\Downloads\\movies_dataset_modificado10000.csv.\n"
     ]
    }
   ],
   "source": [
    "import pandas as pd\n",
    "# Leo el archivo CSV modificado\n",
    "file_path = r'C:\\Users\\Lauta\\Downloads\\movies_dataset_modificado10000.csv'\n",
    "df = pd.read_csv(file_path)\n",
    "\n",
    "# relleno los valores nulos de las columnas revenue y budget\n",
    "df['revenue'] = df['revenue'].fillna(0)\n",
    "df['budget'] = df['budget'].fillna(0)\n",
    "\n",
    "# Guardo el DataFrame modificado en el mismo archivo CSV\n",
    "df.to_csv(file_path, index=False)\n",
    "\n",
    "print(f\"Valores nulos rellenados y archivo guardado exitosamente en {file_path}.\")\n"
   ]
  },
  {
   "cell_type": "code",
   "execution_count": 58,
   "metadata": {},
   "outputs": [
    {
     "name": "stdout",
     "output_type": "stream",
     "text": [
      "Archivo modificado exitosamente y guardado en C:\\Users\\Lauta\\Downloads\\movies_dataset_modificado10000.csv.\n",
      "Fechas corregidas: 3\n"
     ]
    }
   ],
   "source": [
    "import pandas as pd\n",
    "import numpy as np\n",
    "#primero fijarse que tipo de dato se trata si no es un data time cambiarlo asi se puede modificar\n",
    "#anio-mes-dia es el formato en el cual se encuentra y se debe cambiar a anio-mes-dia\n",
    "#despues de esto deberemos crear la nueva columna\n",
    "\n",
    "# Leo el archivo CSV modificado\n",
    "file_path = r'C:\\Users\\Lauta\\Downloads\\movies_dataset_modificado10000.csv'\n",
    "df = pd.read_csv(file_path)\n",
    "\n",
    "#\n",
    "def validate_and_correct_date(date):\n",
    "    try:\n",
    "        # Intentar convertir la fecha al formato AAAA-mm-dd\n",
    "        corrected_date = pd.to_datetime(date, format='%Y-%m-%d', errors='coerce')\n",
    "        \n",
    "        # Verificar si el mes está entre 1 y 12\n",
    "        if pd.isna(corrected_date) or not (1 <= corrected_date.month <= 12):\n",
    "            return np.nan\n",
    "        return corrected_date.strftime('%Y-%m-%d')\n",
    "    except:\n",
    "        return np.nan\n",
    "\n",
    "# Contar el número de correcciones\n",
    "initial_invalid_dates = df['release_date'].isna().sum()\n",
    "df['release_date'] = df['release_date'].apply(validate_and_correct_date)\n",
    "final_invalid_dates = df['release_date'].isna().sum()\n",
    "corrections = final_invalid_dates - initial_invalid_dates\n",
    "\n",
    "# Crear la columna 'release_year' extrayendo el año de 'release_date'\n",
    "df['release_year'] = pd.to_datetime(df['release_date'], errors='coerce').dt.year\n",
    "\n",
    "# Guardar el DataFrame modificado en el mismo archivo CSV\n",
    "df.to_csv(file_path, index=False)\n",
    "\n",
    "print(f\"Archivo modificado exitosamente y guardado en {file_path}.\")\n",
    "print(f\"Fechas corregidas: {corrections}\")\n",
    "\n"
   ]
  },
  {
   "cell_type": "code",
   "execution_count": 14,
   "metadata": {},
   "outputs": [
    {
     "name": "stderr",
     "output_type": "stream",
     "text": [
      "C:\\Users\\Lauta\\AppData\\Local\\Temp\\ipykernel_20120\\2514317350.py:5: DtypeWarning: Columns (5) have mixed types. Specify dtype option on import or set low_memory=False.\n",
      "  df = pd.read_csv(file_path)\n"
     ]
    },
    {
     "name": "stdout",
     "output_type": "stream",
     "text": [
      "Valores nulos eliminados y archivo guardado exitosamente en C:\\Users\\Lauta\\Downloads\\movies_dataset_modificado531.csv.\n"
     ]
    }
   ],
   "source": [
    "import pandas as pd\n",
    "\n",
    "# Leer el archivo CSV modificado\n",
    "file_path = r'C:\\Users\\Lauta\\Downloads\\movies_dataset_modificado531.csv'\n",
    "df = pd.read_csv(file_path)\n",
    "\n",
    "# Elimino los valores nulos de la columna release_date\n",
    "df = df.dropna(subset=['release_date'])\n",
    "#los cambio por cero ?\n",
    "# Guardo el DataFrame modificado en el mismo archivo \n",
    "df.to_csv(file_path, index=False)\n",
    "\n",
    "print(f\"Valores nulos eliminados y archivo guardado exitosamente en {file_path}.\")"
   ]
  },
  {
   "cell_type": "code",
   "execution_count": 15,
   "metadata": {},
   "outputs": [
    {
     "name": "stdout",
     "output_type": "stream",
     "text": [
      "Valores nulos eliminados, columna 'return' creada y archivo guardado exitosamente en C:\\Users\\Lauta\\Downloads\\movies_dataset_modificado531.csv.\n"
     ]
    }
   ],
   "source": [
    "import pandas as pd\n",
    "\n",
    "# Leo el archivo CSV modificado\n",
    "file_path = r'C:\\Users\\Lauta\\Downloads\\movies_dataset_modificado531.csv'\n",
    "df = pd.read_csv(file_path)\n",
    "\n",
    "# Elimino las filas con valores nulos de la columna release_date\n",
    "df = df.dropna(subset=['release_date'])\n",
    "\n",
    "# Creo la columna 'return' dividiendo revenue por budget\n",
    "df['return'] = df.apply(lambda row: row['revenue'] / row['budget'] if row['budget'] > 0 else 0, axis=1)\n",
    "\n",
    "# Reemplazo los valores nulos en la columna 'return' con 0 \n",
    "df['return'] = df['return'].fillna(0)\n",
    "\n",
    "# Guardo el DataFrame modificado en el mismo archivo \n",
    "df.to_csv(file_path, index=False)\n",
    "\n",
    "print(f\"Valores nulos eliminados, columna 'return' creada y archivo guardado exitosamente en {file_path}.\")\n"
   ]
  },
  {
   "cell_type": "code",
   "execution_count": 18,
   "metadata": {},
   "outputs": [
    {
     "name": "stdout",
     "output_type": "stream",
     "text": [
      "Columna 'original_title' eliminada y archivo guardado exitosamente en C:\\Users\\Lauta\\Downloads\\movies_dataset_modificado531.csv.\n"
     ]
    }
   ],
   "source": [
    "import pandas as pd\n",
    "\n",
    "# Leo el archivo CSV modificado\n",
    "file_path = r'C:\\Users\\Lauta\\Downloads\\movies_dataset_modificado531.csv'\n",
    "df = pd.read_csv(file_path)\n",
    "\n",
    "# Elimino la columna 'original_title'\n",
    "df = df.drop(columns=['original_title'], errors='ignore')\n",
    "\n",
    "# Guardo el DataFrame modificado en el mismo archivo \n",
    "df.to_csv(file_path, index=False)\n",
    "\n",
    "print(f\"Columna 'original_title' eliminada y archivo guardado exitosamente en {file_path}.\")\n"
   ]
  },
  {
   "cell_type": "code",
   "execution_count": 19,
   "metadata": {},
   "outputs": [],
   "source": [
    "import pandas as pd\n",
    "\n",
    "# Leo el archivo CSV modificado\n",
    "file_path = r'C:\\Users\\Lauta\\Downloads\\movies_dataset_modificado531.csv'\n",
    "df = pd.read_csv(file_path)\n",
    "\n",
    "# Elimino la columna production_companies\n",
    "df = df.drop(columns=['production_companies'], errors='ignore')\n",
    "\n",
    "# Guardo el DataFrame modificado en el mismo archivo \n",
    "df.to_csv(file_path, index=False)\n",
    "\n"
   ]
  },
  {
   "cell_type": "code",
   "execution_count": 45,
   "metadata": {},
   "outputs": [],
   "source": [
    "import pandas as pd\n",
    "\n",
    "# Leo el archivo CSV \n",
    "file_path = r'C:\\Users\\Lauta\\Downloads\\movies_dataset_modificado531.csv'\n",
    "df = pd.read_csv(file_path)\n",
    "\n",
    "# Elimino la columna 'original_title'\n",
    "df = df.drop(columns=['original_tittle'], errors='ignore')\n",
    "\n",
    "# Guardo el DataFrame modificado en el mismo archivo CSV\n",
    "df.to_csv(file_path, index=False)\n"
   ]
  },
  {
   "cell_type": "code",
   "execution_count": 59,
   "metadata": {},
   "outputs": [
    {
     "name": "stderr",
     "output_type": "stream",
     "text": [
      "C:\\Users\\Lauta\\AppData\\Local\\Temp\\ipykernel_20120\\4135038863.py:5: DtypeWarning: Columns (5) have mixed types. Specify dtype option on import or set low_memory=False.\n",
      "  df = pd.read_csv(file_path)\n"
     ]
    },
    {
     "name": "stdout",
     "output_type": "stream",
     "text": [
      "Columna 'belongs_to_collection' modificada y archivo guardado exitosamente en C:\\Users\\Lauta\\Downloads\\movies_dataset_modificado10000.csv.\n"
     ]
    }
   ],
   "source": [
    "import pandas as pd\n",
    "\n",
    "# Leo el archivo CSV modificado\n",
    "file_path = r'C:\\Users\\Lauta\\Downloads\\movies_dataset_modificado10000.csv'\n",
    "df = pd.read_csv(file_path)\n",
    "\n",
    "# Creo una funcion para obtener solamente el dato del genero de la pelicula eliminando todos los demas\n",
    "def extract_collection_name(belongs_to_collection):\n",
    "    if pd.isna(belongs_to_collection):\n",
    "        return belongs_to_collection\n",
    "    try:\n",
    "        # Extraer la parte correspondiente al nombre de la colección\n",
    "        name_part = belongs_to_collection.split(\", 'name': '\")[1]\n",
    "        collection_name = name_part.split(\"', \")[0]\n",
    "        return collection_name\n",
    "    except IndexError:\n",
    "        return None\n",
    "\n",
    "# Aplico la función a la columna 'belongs_to_collection'\n",
    "df['belongs_to_collection'] = df['belongs_to_collection'].apply(extract_collection_name)\n",
    "\n",
    "# Guardar el DataFrame modificado en el mismo archivo CSV\n",
    "df.to_csv(file_path, index=False)\n",
    "\n",
    "print(f\"Columna 'belongs_to_collection' modificada y archivo guardado exitosamente en {file_path}.\")\n"
   ]
  },
  {
   "cell_type": "code",
   "execution_count": 67,
   "metadata": {},
   "outputs": [
    {
     "name": "stderr",
     "output_type": "stream",
     "text": [
      "C:\\Users\\Lauta\\AppData\\Local\\Temp\\ipykernel_20120\\3526232322.py:5: DtypeWarning: Columns (5) have mixed types. Specify dtype option on import or set low_memory=False.\n",
      "  df = pd.read_csv(r'C:\\Users\\Lauta\\Downloads\\movies_dataset_modificado10000.csv')\n"
     ]
    },
    {
     "name": "stdout",
     "output_type": "stream",
     "text": [
      "Muestra de datos después de convertir 'genres' a listas de diccionarios:\n",
      "0    [{'id': 16, 'name': 'Animation'}, {'id': 35, '...\n",
      "1    [{'id': 12, 'name': 'Adventure'}, {'id': 14, '...\n",
      "2    [{'id': 10749, 'name': 'Romance'}, {'id': 35, ...\n",
      "3    [{'id': 35, 'name': 'Comedy'}, {'id': 18, 'nam...\n",
      "4                       [{'id': 35, 'name': 'Comedy'}]\n",
      "Name: genres, dtype: object\n",
      "Muestra de datos después de extraer los nombres de los géneros:\n",
      "0     [Animation, Comedy, Family]\n",
      "1    [Adventure, Fantasy, Family]\n",
      "2               [Romance, Comedy]\n",
      "3        [Comedy, Drama, Romance]\n",
      "4                        [Comedy]\n",
      "Name: genres, dtype: object\n"
     ]
    }
   ],
   "source": [
    "import pandas as pd\n",
    "import ast\n",
    "\n",
    "# Cargar el dataset desde un archivo CSV (ajusta la ruta según corresponda)\n",
    "df = pd.read_csv(r'C:\\Users\\Lauta\\Downloads\\movies_dataset_modificado10000.csv')\n",
    "\n",
    "# Convertir la columna `genres` desde una cadena de texto a una lista de diccionarios\n",
    "def safe_literal_eval(value):\n",
    "    try:\n",
    "        return ast.literal_eval(value)\n",
    "    except (ValueError, SyntaxError):\n",
    "        return []\n",
    "\n",
    "df['genres'] = df['genres'].apply(safe_literal_eval)\n",
    "\n",
    "# Revisar una muestra después de la conversión\n",
    "print(\"Muestra de datos después de convertir 'genres' a listas de diccionarios:\")\n",
    "print(df['genres'].head())\n",
    "\n",
    "# Función para extraer solo los nombres de los géneros\n",
    "def extract_genre_names(genres_list):\n",
    "    if not isinstance(genres_list, list):\n",
    "        return []\n",
    "    \n",
    "    genre_names = [genre.get('name') for genre in genres_list]\n",
    "    return genre_names\n",
    "\n",
    "# Aplicar la función a la columna `genres`\n",
    "df['genres'] = df['genres'].apply(extract_genre_names)\n",
    "\n",
    "# Revisar una muestra después de aplicar la función de extracción\n",
    "print(\"Muestra de datos después de extraer los nombres de los géneros:\")\n",
    "print(df['genres'].head())\n",
    "\n",
    "# Guardar el dataset modificado en un nuevo archivo CSV\n",
    "df.to_csv (r'C:\\Users\\Lauta\\Downloads\\movies_dataset444 (2).csv', index=False)\n"
   ]
  },
  {
   "cell_type": "code",
   "execution_count": 25,
   "metadata": {},
   "outputs": [
    {
     "name": "stdout",
     "output_type": "stream",
     "text": [
      "                                                cast  \\\n",
      "0  [{'character': 'Woody (voice)', 'name': 'Tom H...   \n",
      "1  [{'character': 'Alan Parrish', 'name': 'Robin ...   \n",
      "2  [{'character': 'Max Goldman', 'name': 'Walter ...   \n",
      "3  [{'character': 'Savannah 'Vannah' Jackson', 'n...   \n",
      "4  [{'character': 'George Banks', 'name': 'Steve ...   \n",
      "\n",
      "                                                crew     id  \n",
      "0  [{'credit_id': '52fe4284c3a36847f8024f49', 'de...    862  \n",
      "1  [{'credit_id': '52fe44bfc3a36847f80a7cd1', 'de...   8844  \n",
      "2  [{'credit_id': '52fe466a9251416c75077a89', 'de...  15602  \n",
      "3  [{'credit_id': '52fe44779251416c91011acb', 'de...  31357  \n",
      "4  [{'credit_id': '52fe44959251416c75039ed7', 'de...  11862  \n"
     ]
    }
   ],
   "source": [
    "import pandas as pd\n",
    "import ast\n",
    "def limpiar_informacion_cast(df):\n",
    "    # elijo las claves que seran eliminadas\n",
    "    claves_a_eliminar = ['cast_id', 'credit_id', 'gender', 'id', 'order', 'profile_path']\n",
    "    \n",
    "    # Convierto la columna 'cast' de string a lista de diccionarios\n",
    "    df['cast'] = df['cast'].apply(ast.literal_eval)\n",
    "    \n",
    "    # Elimino las claves específicas de cada diccionario en la lista\n",
    "    for i, fila in df.iterrows():\n",
    "        nuevo_cast = []\n",
    "        for actor in fila['cast']:\n",
    "            nuevo_cast.append({clave: valor for clave, valor in actor.items() if clave not in claves_a_eliminar})\n",
    "        df.at[i, 'cast'] = nuevo_cast\n",
    "    \n",
    "    return df\n",
    "\n",
    "# Cargo el DataFrame\n",
    "df = pd.read_csv(r\"C:\\Users\\Lauta\\Downloads\\credits (3).csv\")\n",
    "\n",
    "# Aplico la función para limpiar la información de la columna cast\n",
    "df_limpio = limpiar_informacion_cast(df)\n",
    "\n",
    "# Guardo el DataFrame actualizado en un nuevo archivo CSV \n",
    "df_limpio.to_csv(r\"C:\\Users\\Lauta\\Downloads\\creditos_cambiados530(1).csv\", index=False)\n",
    "\n",
    "print(df_limpio.head())\n"
   ]
  },
  {
   "cell_type": "code",
   "execution_count": 31,
   "metadata": {},
   "outputs": [
    {
     "name": "stdout",
     "output_type": "stream",
     "text": [
      "Muestra de datos originales en la columna 'crew':\n",
      "0    [{'credit_id': '52fe4284c3a36847f8024f49', 'de...\n",
      "1    [{'credit_id': '52fe44bfc3a36847f80a7cd1', 'de...\n",
      "2    [{'credit_id': '52fe466a9251416c75077a89', 'de...\n",
      "3    [{'credit_id': '52fe44779251416c91011acb', 'de...\n",
      "4    [{'credit_id': '52fe44959251416c75039ed7', 'de...\n",
      "Name: crew, dtype: object\n",
      "Muestra de datos después de convertir 'crew' a listas de diccionarios:\n",
      "0    [{'credit_id': '52fe4284c3a36847f8024f49', 'de...\n",
      "1    [{'credit_id': '52fe44bfc3a36847f80a7cd1', 'de...\n",
      "2    [{'credit_id': '52fe466a9251416c75077a89', 'de...\n",
      "3    [{'credit_id': '52fe44779251416c91011acb', 'de...\n",
      "4    [{'credit_id': '52fe44959251416c75039ed7', 'de...\n",
      "Name: crew, dtype: object\n",
      "Muestra de datos después de extraer información del departamento 'Directing':\n",
      "0    [{'department': 'Directing', 'gender': 2, 'id'...\n",
      "1    [{'department': 'Directing', 'gender': 2, 'id'...\n",
      "2    [{'department': 'Directing', 'gender': 2, 'id'...\n",
      "3    [{'department': 'Directing', 'gender': 2, 'id'...\n",
      "4    [{'department': 'Directing', 'gender': 2, 'id'...\n",
      "Name: crew, dtype: object\n"
     ]
    }
   ],
   "source": [
    "import pandas as pd\n",
    "import ast\n",
    "\n",
    "\n",
    "# Cargar el dataset desde un archivo CSV (ajusta la ruta según corresponda)\n",
    "# Cargo el DataFrame\n",
    "df = pd.read_csv(r\"C:\\Users\\Lauta\\Downloads\\movies_dataset444 (2).csv\")\n",
    "\n",
    "# Revisar una muestra de los datos originales en la columna `crew`\n",
    "print(\"Muestra de datos originales en la columna 'crew':\")\n",
    "print(df['crew'].head())\n",
    "\n",
    "# Convertir la columna `crew` desde una cadena de texto a una lista de diccionarios\n",
    "def safe_literal_eval(value):\n",
    "    try:\n",
    "        return ast.literal_eval(value)\n",
    "    except (ValueError, SyntaxError):\n",
    "        return []\n",
    "\n",
    "df['crew'] = df['crew'].apply(safe_literal_eval)\n",
    "\n",
    "# Revisar una muestra después de la conversión\n",
    "print(\"Muestra de datos después de convertir 'crew' a listas de diccionarios:\")\n",
    "print(df['crew'].head())\n",
    "\n",
    "# Función para extraer la información relevante del departamento 'Directing'\n",
    "def extract_directing_info(crew_list):\n",
    "    if not isinstance(crew_list, list):\n",
    "        return []\n",
    "    \n",
    "    filtered_list = [\n",
    "        {\n",
    "            'department': member.get('department'),\n",
    "            'gender': member.get('gender'),\n",
    "            'id': member.get('id'),\n",
    "            'job': member.get('job'),\n",
    "            'name': member.get('name'),\n",
    "            'profile_path': member.get('profile_path')\n",
    "        }\n",
    "        for member in crew_list\n",
    "        if member.get('department') == 'Directing'\n",
    "    ]\n",
    "    return filtered_list\n",
    "\n",
    "# Aplicar la función a la columna `crew`\n",
    "df['crew'] = df['crew'].apply(extract_directing_info)\n",
    "\n",
    "# Revisar una muestra después de aplicar la función de extracción\n",
    "print(\"Muestra de datos después de extraer información del departamento 'Directing':\")\n",
    "print(df['crew'].head())\n",
    "\n",
    "# Guardar el dataset modificado en un nuevo archivo CSV\n",
    "df.to_csv('ruta_del_archivo_filtrado52.csv', index=False)\n",
    "\n"
   ]
  },
  {
   "cell_type": "code",
   "execution_count": 69,
   "metadata": {},
   "outputs": [
    {
     "name": "stderr",
     "output_type": "stream",
     "text": [
      "C:\\Users\\Lauta\\AppData\\Local\\Temp\\ipykernel_20120\\4178970895.py:4: DtypeWarning: Columns (5) have mixed types. Specify dtype option on import or set low_memory=False.\n",
      "  df = pd.read_csv(file_path)\n"
     ]
    }
   ],
   "source": [
    "import pandas \n",
    "\n",
    "file_path = r'C:\\Users\\Lauta\\Downloads\\movies_dataset444 (2).csv'\n",
    "df = pd.read_csv(file_path)\n",
    "# Eliminar las filas del rango especificado (7001 a 45778, inclusive)\n",
    "df = df.drop(df.index[7000:45778])\n",
    "\n",
    "# Si quieres guardar el DataFrame modificado en un nuevo archivo CSV\n",
    "df.to_csv(r'C:\\Users\\Lauta\\Downloads\\movies_dataset_modificado7033.csv', index=False)\n"
   ]
  },
  {
   "cell_type": "code",
   "execution_count": 36,
   "metadata": {},
   "outputs": [],
   "source": [
    "import pandas \n",
    "\n",
    "file_path = r'ruta_del_archivo_filtrado52.csv'\n",
    "df = pd.read_csv(file_path)\n",
    "# Eliminar las filas del rango especificado (7001 a 45778, inclusive)\n",
    "df = df.drop(df.index[7000:45778])\n",
    "\n",
    "# Si quieres guardar el DataFrame modificado en un nuevo archivo CSV\n",
    "df.to_csv(r'C:\\Users\\Lauta\\Downloads\\movies_dataset_creditos7001csv', index=False)"
   ]
  },
  {
   "cell_type": "code",
   "execution_count": 70,
   "metadata": {},
   "outputs": [
    {
     "name": "stdout",
     "output_type": "stream",
     "text": [
      "Datasets concatenados horizontalmente y guardados como datasetcompleto33.csv.\n"
     ]
    }
   ],
   "source": [
    "import pandas as pd\n",
    "\n",
    "# Cargo los datasets anteriormente trabajados\n",
    "Archivo1 = r\"C:\\Users\\Lauta\\Downloads\\movies_dataset_modificado7033.csv\"\n",
    "Archivo2 = r\"C:\\Users\\Lauta\\Downloads\\movies_dataset_creditos7001csv\"\n",
    "\n",
    "# Les pongo un nombre más corto\n",
    "df1 = pd.read_csv(Archivo1)\n",
    "df2 = pd.read_csv(Archivo2)\n",
    "\n",
    "# Uno los datasets horizontalmente\n",
    "concatenated_df = pd.concat([df1, df2], axis=1)\n",
    "\n",
    "# Guardo la unión de los dos datasets en un archivo nuevo con el nombre solicitado\n",
    "concatenated_file_path = r\"C:\\Users\\Lauta\\Downloads\\datasetcompleto334.csv\"\n",
    "concatenated_df.to_csv(concatenated_file_path, index=False)\n",
    "\n",
    "print(\"Datasets concatenados horizontalmente y guardados como datasetcompleto33.csv.\")\n"
   ]
  },
  {
   "cell_type": "code",
   "execution_count": 71,
   "metadata": {},
   "outputs": [
    {
     "name": "stdout",
     "output_type": "stream",
     "text": [
      "Columnas eliminadas y archivo guardado como datasetcompleto334_modificado.csv.\n"
     ]
    }
   ],
   "source": [
    "import pandas as pd\n",
    "\n",
    "# Ruta del archivo CSV\n",
    "file_path = r\"C:\\Users\\Lauta\\Downloads\\datasetcompleto334.csv\"\n",
    "\n",
    "# Cargar el archivo CSV en un DataFrame\n",
    "df = pd.read_csv(file_path)\n",
    "\n",
    "# Eliminar las columnas especificadas\n",
    "columns_to_remove = ['original_title', 'production_companies', 'spoken_languages']\n",
    "df = df.drop(columns=columns_to_remove, errors='ignore')\n",
    "\n",
    "# Guardar el DataFrame modificado en un nuevo archivo CSV\n",
    "output_file_path = r\"C:\\Users\\Lauta\\Downloads\\datasetcompleto334_modificado.csv\"\n",
    "df.to_csv(output_file_path, index=False)\n",
    "\n",
    "print(\"Columnas eliminadas y archivo guardado como datasetcompleto334_modificado.csv.\")\n"
   ]
  }
 ],
 "metadata": {
  "kernelspec": {
   "display_name": "nombre_del_entorno",
   "language": "python",
   "name": "python3"
  },
  "language_info": {
   "codemirror_mode": {
    "name": "ipython",
    "version": 3
   },
   "file_extension": ".py",
   "mimetype": "text/x-python",
   "name": "python",
   "nbconvert_exporter": "python",
   "pygments_lexer": "ipython3",
   "version": "3.12.4"
  }
 },
 "nbformat": 4,
 "nbformat_minor": 2
}
